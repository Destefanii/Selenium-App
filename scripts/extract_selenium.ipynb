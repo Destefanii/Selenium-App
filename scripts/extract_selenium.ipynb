{
 "cells": [
  {
   "cell_type": "code",
   "execution_count": 1,
   "metadata": {},
   "outputs": [],
   "source": [
    "#!pip install selenium\n",
    "#!pip install webdriver-manager\n",
    "#!pip install --upgrade --force-reinstall chromedriver-binary-auto\n",
    "#!pip install chromedriver-autoinstaller"
   ]
  },
  {
   "cell_type": "code",
   "execution_count": 2,
   "metadata": {},
   "outputs": [
    {
     "name": "stdout",
     "output_type": "stream",
     "text": [
      "\n",
      "Valor para ganhar: 3\n",
      "2 Valor esperado 3 não encontrado, valor encontrado 3\n",
      "3 Valor esperado 3 não encontrado, valor encontrado 3\n",
      "4 Valor esperado 3 não encontrado, valor encontrado 3\n",
      "5 Valor esperado 3 não encontrado, valor encontrado 3\n",
      "6 Valor esperado 3 não encontrado, valor encontrado 3\n",
      "7 Valor esperado 3 não encontrado, valor encontrado 3\n",
      "8 Valor esperado 3 não encontrado, valor encontrado 3\n",
      "9 Valor esperado 3 não encontrado, valor encontrado 3\n",
      "10 Valor esperado 3 não encontrado, valor encontrado 3\n",
      "11 Valor esperado 3 não encontrado, valor encontrado 3\n",
      "12 Valor esperado 3 não encontrado, valor encontrado 3\n",
      "13 Valor esperado 3 não encontrado, valor encontrado 3\n",
      "14 Valor esperado 3 não encontrado, valor encontrado 3\n",
      "15 Valor esperado 3 não encontrado, valor encontrado 3\n",
      "16 Valor esperado 3 não encontrado, valor encontrado 3\n",
      "17 Valor esperado 3 encontrado, valor encontrado 3\n"
     ]
    }
   ],
   "source": [
    "# Import libs\n",
    "import chromedriver_autoinstaller as chromedriver\n",
    "import chromedriver_binary\n",
    "\n",
    "from selenium.webdriver import Chrome\n",
    "from selenium import webdriver\n",
    "from selenium.webdriver.common.by import By\n",
    "from time import sleep\n",
    "\n",
    "url = \"https://curso-python-selenium.netlify.app/exercicio_02.html\"\n",
    "\n",
    "# Set browser\n",
    "browser = Chrome()\n",
    "\n",
    "# Maximizing window\n",
    "browser.maximize_window()\n",
    "\n",
    "# wait for 20 seconds\n",
    "browser.implicitly_wait(5)\n",
    "\n",
    "# Open site\n",
    "browser.get(url)\n",
    "\n",
    "p = browser.find_elements(By.TAG_NAME, \"p\")\n",
    "a = browser.find_element(By.TAG_NAME, \"a\")\n",
    "\n",
    "for i in range(2):\n",
    "    \n",
    "    p = browser.find_elements(By.TAG_NAME, \"p\")\n",
    "\n",
    "    if 'Numero esperado: ' in p[i].text:\n",
    "        \n",
    "        win_value = p[i].text[-1]\n",
    "        print(f'Valor para ganhar: {win_value}')\n",
    "    else:\n",
    "        print(\"\")\n",
    "\n",
    "x = True\n",
    "c = 1\n",
    "\n",
    "while x == True:\n",
    "\n",
    "    a.click()\n",
    "    value_a = browser.find_elements(By.TAG_NAME, \"p\")\n",
    "\n",
    "    c = c + 1\n",
    "\n",
    "    if win_value == value_a[c].text[-1]:             \n",
    "\n",
    "        print(f'{c} Valor esperado {win_value} encontrado, valor encontrado {value_a[1].text[-1]}')\n",
    "\n",
    "        # Wait for 20 seconds\n",
    "        sleep(20)\n",
    "\n",
    "        # Browser closed after sleep\n",
    "        browser.quit()\n",
    "\n",
    "    else:\n",
    "        print(f'{c} Valor esperado {win_value} não encontrado, valor encontrado {p[i].text[-1]}')\n"
   ]
  }
 ],
 "metadata": {
  "kernelspec": {
   "display_name": "Python 3.9.13 64-bit (microsoft store)",
   "language": "python",
   "name": "python3"
  },
  "language_info": {
   "codemirror_mode": {
    "name": "ipython",
    "version": 3
   },
   "file_extension": ".py",
   "mimetype": "text/x-python",
   "name": "python",
   "nbconvert_exporter": "python",
   "pygments_lexer": "ipython3",
   "version": "3.9.13"
  },
  "orig_nbformat": 4,
  "vscode": {
   "interpreter": {
    "hash": "8906bd03fdff34cc877f0eacf3de072606a23c6746149e25437a59cd6856a78e"
   }
  }
 },
 "nbformat": 4,
 "nbformat_minor": 2
}
